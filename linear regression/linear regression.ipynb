{
 "cells": [
  {
   "cell_type": "code",
   "execution_count": 4,
   "metadata": {},
   "outputs": [
    {
     "name": "stdout",
     "output_type": "stream",
     "text": [
      "Predicted values  [ 40594.69 123305.18  65031.88]\n",
      "Real values\t  [ 37731 122391  57081]\n",
      "Trained W 9398.92\n",
      "Trained b 26496.31\n"
     ]
    },
    {
     "data": {
      "image/png": "[encoded data removed]",
      "text/plain": [
       "<Figure size 432x288 with 1 Axes>"
      ]
     },
     "metadata": {
      "needs_background": "light"
     },
     "output_type": "display_data"
    }
   ],
   "source": [
    "# Importing libraries \n",
    "import numpy as np \n",
    "import pandas as pd \n",
    "from sklearn.model_selection import train_test_split \n",
    "import matplotlib.pyplot as plt \n",
    "# Linear Regression \n",
    "class LinearRegression() : \n",
    "    def __init__( self, learning_rate, iterations ) : \n",
    "        self.learning_rate = learning_rate \n",
    "        self.iterations = iterations \n",
    "    # Function for model training \n",
    "    def fit( self, X, Y ) : \n",
    "        # no_of_training_examples, no_of_features \n",
    "        self.m, self.n = X.shape \n",
    "        # weight initialization \n",
    "        self.W = np.zeros( self.n )\n",
    "        self.b = 0\n",
    "        self.X = X \n",
    "        self.Y = Y \n",
    "        # gradient descent learning \n",
    "        for i in range( self.iterations ) : \n",
    "            self.update_weights() \n",
    "        return self\n",
    "    # Helper function to update weights in gradient descent \n",
    "    def update_weights( self ) : \n",
    "        Y_pred = self.predict( self.X ) \n",
    "        # calculate gradients \n",
    "        dW = - ( 2 * ( self.X.T ).dot( self.Y - Y_pred ) ) / self.m \n",
    "        db = - 2 * np.sum( self.Y - Y_pred ) / self.m \n",
    "        \n",
    "        # update weights \n",
    "        self.W = self.W - self.learning_rate * dW \n",
    "        self.b = self.b - self.learning_rate * db \n",
    "        return self\n",
    "    # Hypothetical function h( x ) \n",
    "    def predict( self, X ) : \n",
    "        return X.dot( self.W ) + self.b \n",
    "\n",
    "# driver code \n",
    "def main() : \n",
    "    # Importing dataset \n",
    "    df = pd.read_csv( \"./dataset/salary_data.csv\") \n",
    "    X = df.iloc[:,:-1].values \n",
    "    Y = df.iloc[:,1].values \n",
    "    # Splitting dataset into train and test set \n",
    "    X_train, X_test, Y_train, Y_test = train_test_split( \n",
    "    X, Y, test_size = 1/3, random_state = 0 ) \n",
    "    # Model training \n",
    "    model = LinearRegression( iterations = 1000, learning_rate = 0.01 ) \n",
    "    model.fit( X_train, Y_train ) \n",
    "    # Prediction on test set\n",
    "    Y_pred = model.predict( X_test ) \n",
    "    print( \"Predicted values \", np.round( Y_pred[:3], 2 ) ) \n",
    "    print( \"Real values\t \", Y_test[:3] ) \n",
    "    print( \"Trained W\", round( model.W[0], 2 ) ) \n",
    "    print( \"Trained b\", round( model.b, 2 ) ) \n",
    "    # Visualization on test set \n",
    "    plt.scatter( X_test, Y_test, color = 'blue' ) \n",
    "    plt.plot( X_test, Y_pred, color = 'orange' ) \n",
    "    plt.title( 'Salary vs Experience' ) \n",
    "    plt.xlabel( 'Years of Experience' ) \n",
    "    plt.ylabel( 'Salary' ) \n",
    "    plt.show() \n",
    "if __name__ == \"__main__\" : \n",
    "\n",
    "    main()\n"
   ]
  },
  {
   "cell_type": "code",
   "execution_count": null,
   "metadata": {},
   "outputs": [],
   "source": []
  }
 ],
 "metadata": {
  "kernelspec": {
   "display_name": "Python 3",
   "language": "python",
   "name": "python3"
  },
  "language_info": {
   "codemirror_mode": {
    "name": "ipython",
    "version": 3
   },
   "file_extension": ".py",
   "mimetype": "text/x-python",
   "name": "python",
   "nbconvert_exporter": "python",
   "pygments_lexer": "ipython3",
   "version": "3.8.3"
  }
 },
 "nbformat": 4,
 "nbformat_minor": 4
}
